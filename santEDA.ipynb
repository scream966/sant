{
 "cells": [
  {
   "cell_type": "code",
   "execution_count": 129,
   "id": "f6b0c1e4-a225-46a9-8a82-12418e8ec390",
   "metadata": {
    "execution": {
     "iopub.execute_input": "2022-04-15T19:27:12.700767Z",
     "iopub.status.busy": "2022-04-15T19:27:12.700767Z",
     "iopub.status.idle": "2022-04-15T19:27:12.704771Z",
     "shell.execute_reply": "2022-04-15T19:27:12.704771Z",
     "shell.execute_reply.started": "2022-04-15T19:27:12.700767Z"
    },
    "tags": []
   },
   "outputs": [],
   "source": [
    "import pandas as pd\n",
    "import numpy as np\n",
    "import matplotlib.pyplot as plt\n",
    "import seaborn as sns\n",
    "%matplotlib inline"
   ]
  },
  {
   "cell_type": "markdown",
   "id": "1da23a35-bb82-4661-9b3f-0b045833b4ea",
   "metadata": {},
   "source": [
    "#### Exploratory Data Analaysis\n",
    "\n",
    "Feature <br>\n",
    "    1. numerical <br>\n",
    "    2. categorical <br>\n",
    "<br><br>\n",
    "1. Univariate <br>\n",
    "2. Bivariate <br>\n",
    "    correlation between two features "
   ]
  },
  {
   "cell_type": "code",
   "execution_count": 130,
   "id": "d260dafa-075b-465f-a30e-afa5c448a339",
   "metadata": {
    "execution": {
     "iopub.execute_input": "2022-04-15T19:27:12.705770Z",
     "iopub.status.busy": "2022-04-15T19:27:12.705770Z",
     "iopub.status.idle": "2022-04-15T19:27:12.723767Z",
     "shell.execute_reply": "2022-04-15T19:27:12.722771Z",
     "shell.execute_reply.started": "2022-04-15T19:27:12.705770Z"
    }
   },
   "outputs": [
    {
     "data": {
      "text/plain": [
       "(891, 12)"
      ]
     },
     "execution_count": 130,
     "metadata": {},
     "output_type": "execute_result"
    }
   ],
   "source": [
    "train = pd.read_csv('titanic-train.csv')\n",
    "train.shape"
   ]
  },
  {
   "cell_type": "code",
   "execution_count": 131,
   "id": "3197f152-8a85-49ef-873d-894e4bceb4bd",
   "metadata": {
    "execution": {
     "iopub.execute_input": "2022-04-15T19:27:12.724768Z",
     "iopub.status.busy": "2022-04-15T19:27:12.724768Z",
     "iopub.status.idle": "2022-04-15T19:27:12.740766Z",
     "shell.execute_reply": "2022-04-15T19:27:12.739770Z",
     "shell.execute_reply.started": "2022-04-15T19:27:12.724768Z"
    }
   },
   "outputs": [
    {
     "data": {
      "text/html": [
       "<div>\n",
       "<style scoped>\n",
       "    .dataframe tbody tr th:only-of-type {\n",
       "        vertical-align: middle;\n",
       "    }\n",
       "\n",
       "    .dataframe tbody tr th {\n",
       "        vertical-align: top;\n",
       "    }\n",
       "\n",
       "    .dataframe thead th {\n",
       "        text-align: right;\n",
       "    }\n",
       "</style>\n",
       "<table border=\"1\" class=\"dataframe\">\n",
       "  <thead>\n",
       "    <tr style=\"text-align: right;\">\n",
       "      <th></th>\n",
       "      <th>PassengerId</th>\n",
       "      <th>Survived</th>\n",
       "      <th>Pclass</th>\n",
       "      <th>Name</th>\n",
       "      <th>Sex</th>\n",
       "      <th>Age</th>\n",
       "      <th>SibSp</th>\n",
       "      <th>Parch</th>\n",
       "      <th>Ticket</th>\n",
       "      <th>Fare</th>\n",
       "      <th>Cabin</th>\n",
       "      <th>Embarked</th>\n",
       "    </tr>\n",
       "  </thead>\n",
       "  <tbody>\n",
       "    <tr>\n",
       "      <th>0</th>\n",
       "      <td>1</td>\n",
       "      <td>0</td>\n",
       "      <td>3</td>\n",
       "      <td>Braund, Mr. Owen Harris</td>\n",
       "      <td>male</td>\n",
       "      <td>22.0</td>\n",
       "      <td>1</td>\n",
       "      <td>0</td>\n",
       "      <td>A/5 21171</td>\n",
       "      <td>7.2500</td>\n",
       "      <td>NaN</td>\n",
       "      <td>S</td>\n",
       "    </tr>\n",
       "    <tr>\n",
       "      <th>1</th>\n",
       "      <td>2</td>\n",
       "      <td>1</td>\n",
       "      <td>1</td>\n",
       "      <td>Cumings, Mrs. John Bradley (Florence Briggs Th...</td>\n",
       "      <td>female</td>\n",
       "      <td>38.0</td>\n",
       "      <td>1</td>\n",
       "      <td>0</td>\n",
       "      <td>PC 17599</td>\n",
       "      <td>71.2833</td>\n",
       "      <td>C85</td>\n",
       "      <td>C</td>\n",
       "    </tr>\n",
       "    <tr>\n",
       "      <th>2</th>\n",
       "      <td>3</td>\n",
       "      <td>1</td>\n",
       "      <td>3</td>\n",
       "      <td>Heikkinen, Miss. Laina</td>\n",
       "      <td>female</td>\n",
       "      <td>26.0</td>\n",
       "      <td>0</td>\n",
       "      <td>0</td>\n",
       "      <td>STON/O2. 3101282</td>\n",
       "      <td>7.9250</td>\n",
       "      <td>NaN</td>\n",
       "      <td>S</td>\n",
       "    </tr>\n",
       "    <tr>\n",
       "      <th>3</th>\n",
       "      <td>4</td>\n",
       "      <td>1</td>\n",
       "      <td>1</td>\n",
       "      <td>Futrelle, Mrs. Jacques Heath (Lily May Peel)</td>\n",
       "      <td>female</td>\n",
       "      <td>35.0</td>\n",
       "      <td>1</td>\n",
       "      <td>0</td>\n",
       "      <td>113803</td>\n",
       "      <td>53.1000</td>\n",
       "      <td>C123</td>\n",
       "      <td>S</td>\n",
       "    </tr>\n",
       "    <tr>\n",
       "      <th>4</th>\n",
       "      <td>5</td>\n",
       "      <td>0</td>\n",
       "      <td>3</td>\n",
       "      <td>Allen, Mr. William Henry</td>\n",
       "      <td>male</td>\n",
       "      <td>35.0</td>\n",
       "      <td>0</td>\n",
       "      <td>0</td>\n",
       "      <td>373450</td>\n",
       "      <td>8.0500</td>\n",
       "      <td>NaN</td>\n",
       "      <td>S</td>\n",
       "    </tr>\n",
       "  </tbody>\n",
       "</table>\n",
       "</div>"
      ],
      "text/plain": [
       "   PassengerId  Survived  Pclass  \\\n",
       "0            1         0       3   \n",
       "1            2         1       1   \n",
       "2            3         1       3   \n",
       "3            4         1       1   \n",
       "4            5         0       3   \n",
       "\n",
       "                                                Name     Sex   Age  SibSp  \\\n",
       "0                            Braund, Mr. Owen Harris    male  22.0      1   \n",
       "1  Cumings, Mrs. John Bradley (Florence Briggs Th...  female  38.0      1   \n",
       "2                             Heikkinen, Miss. Laina  female  26.0      0   \n",
       "3       Futrelle, Mrs. Jacques Heath (Lily May Peel)  female  35.0      1   \n",
       "4                           Allen, Mr. William Henry    male  35.0      0   \n",
       "\n",
       "   Parch            Ticket     Fare Cabin Embarked  \n",
       "0      0         A/5 21171   7.2500   NaN        S  \n",
       "1      0          PC 17599  71.2833   C85        C  \n",
       "2      0  STON/O2. 3101282   7.9250   NaN        S  \n",
       "3      0            113803  53.1000  C123        S  \n",
       "4      0            373450   8.0500   NaN        S  "
      ]
     },
     "execution_count": 131,
     "metadata": {},
     "output_type": "execute_result"
    }
   ],
   "source": [
    "train.head()"
   ]
  },
  {
   "cell_type": "code",
   "execution_count": 132,
   "id": "b835a625-7186-4ec7-8f77-e70740a254fe",
   "metadata": {
    "execution": {
     "iopub.execute_input": "2022-04-15T19:27:12.742767Z",
     "iopub.status.busy": "2022-04-15T19:27:12.741775Z",
     "iopub.status.idle": "2022-04-15T19:27:12.749769Z",
     "shell.execute_reply": "2022-04-15T19:27:12.748780Z",
     "shell.execute_reply.started": "2022-04-15T19:27:12.742767Z"
    }
   },
   "outputs": [
    {
     "data": {
      "text/plain": [
       "681"
      ]
     },
     "execution_count": 132,
     "metadata": {},
     "output_type": "execute_result"
    }
   ],
   "source": [
    "train['Ticket'].nunique()"
   ]
  },
  {
   "cell_type": "code",
   "execution_count": 133,
   "id": "53129a06-da84-4ada-8ddd-63dd42de278b",
   "metadata": {
    "execution": {
     "iopub.execute_input": "2022-04-15T19:27:12.751768Z",
     "iopub.status.busy": "2022-04-15T19:27:12.750770Z",
     "iopub.status.idle": "2022-04-15T19:27:12.760769Z",
     "shell.execute_reply": "2022-04-15T19:27:12.760769Z",
     "shell.execute_reply.started": "2022-04-15T19:27:12.751768Z"
    }
   },
   "outputs": [
    {
     "data": {
      "text/plain": [
       "347082      7\n",
       "CA. 2343    7\n",
       "1601        7\n",
       "3101295     6\n",
       "CA 2144     6\n",
       "           ..\n",
       "9234        1\n",
       "19988       1\n",
       "2693        1\n",
       "PC 17612    1\n",
       "370376      1\n",
       "Name: Ticket, Length: 681, dtype: int64"
      ]
     },
     "execution_count": 133,
     "metadata": {},
     "output_type": "execute_result"
    }
   ],
   "source": [
    "train['Ticket'].value_counts()"
   ]
  },
  {
   "cell_type": "code",
   "execution_count": 134,
   "id": "083e9ca6-531b-45c8-828b-ec7d81249c54",
   "metadata": {
    "execution": {
     "iopub.execute_input": "2022-04-15T19:27:12.762771Z",
     "iopub.status.busy": "2022-04-15T19:27:12.762771Z",
     "iopub.status.idle": "2022-04-15T19:27:12.779770Z",
     "shell.execute_reply": "2022-04-15T19:27:12.778767Z",
     "shell.execute_reply.started": "2022-04-15T19:27:12.762771Z"
    }
   },
   "outputs": [
    {
     "data": {
      "text/html": [
       "<div>\n",
       "<style scoped>\n",
       "    .dataframe tbody tr th:only-of-type {\n",
       "        vertical-align: middle;\n",
       "    }\n",
       "\n",
       "    .dataframe tbody tr th {\n",
       "        vertical-align: top;\n",
       "    }\n",
       "\n",
       "    .dataframe thead th {\n",
       "        text-align: right;\n",
       "    }\n",
       "</style>\n",
       "<table border=\"1\" class=\"dataframe\">\n",
       "  <thead>\n",
       "    <tr style=\"text-align: right;\">\n",
       "      <th></th>\n",
       "      <th>PassengerId</th>\n",
       "      <th>Survived</th>\n",
       "      <th>Pclass</th>\n",
       "      <th>Name</th>\n",
       "      <th>Sex</th>\n",
       "      <th>Age</th>\n",
       "      <th>SibSp</th>\n",
       "      <th>Parch</th>\n",
       "      <th>Ticket</th>\n",
       "      <th>Fare</th>\n",
       "      <th>Cabin</th>\n",
       "      <th>Embarked</th>\n",
       "    </tr>\n",
       "  </thead>\n",
       "  <tbody>\n",
       "    <tr>\n",
       "      <th>13</th>\n",
       "      <td>14</td>\n",
       "      <td>0</td>\n",
       "      <td>3</td>\n",
       "      <td>Andersson, Mr. Anders Johan</td>\n",
       "      <td>male</td>\n",
       "      <td>39.0</td>\n",
       "      <td>1</td>\n",
       "      <td>5</td>\n",
       "      <td>347082</td>\n",
       "      <td>31.275</td>\n",
       "      <td>NaN</td>\n",
       "      <td>S</td>\n",
       "    </tr>\n",
       "    <tr>\n",
       "      <th>119</th>\n",
       "      <td>120</td>\n",
       "      <td>0</td>\n",
       "      <td>3</td>\n",
       "      <td>Andersson, Miss. Ellis Anna Maria</td>\n",
       "      <td>female</td>\n",
       "      <td>2.0</td>\n",
       "      <td>4</td>\n",
       "      <td>2</td>\n",
       "      <td>347082</td>\n",
       "      <td>31.275</td>\n",
       "      <td>NaN</td>\n",
       "      <td>S</td>\n",
       "    </tr>\n",
       "    <tr>\n",
       "      <th>541</th>\n",
       "      <td>542</td>\n",
       "      <td>0</td>\n",
       "      <td>3</td>\n",
       "      <td>Andersson, Miss. Ingeborg Constanzia</td>\n",
       "      <td>female</td>\n",
       "      <td>9.0</td>\n",
       "      <td>4</td>\n",
       "      <td>2</td>\n",
       "      <td>347082</td>\n",
       "      <td>31.275</td>\n",
       "      <td>NaN</td>\n",
       "      <td>S</td>\n",
       "    </tr>\n",
       "    <tr>\n",
       "      <th>542</th>\n",
       "      <td>543</td>\n",
       "      <td>0</td>\n",
       "      <td>3</td>\n",
       "      <td>Andersson, Miss. Sigrid Elisabeth</td>\n",
       "      <td>female</td>\n",
       "      <td>11.0</td>\n",
       "      <td>4</td>\n",
       "      <td>2</td>\n",
       "      <td>347082</td>\n",
       "      <td>31.275</td>\n",
       "      <td>NaN</td>\n",
       "      <td>S</td>\n",
       "    </tr>\n",
       "    <tr>\n",
       "      <th>610</th>\n",
       "      <td>611</td>\n",
       "      <td>0</td>\n",
       "      <td>3</td>\n",
       "      <td>Andersson, Mrs. Anders Johan (Alfrida Konstant...</td>\n",
       "      <td>female</td>\n",
       "      <td>39.0</td>\n",
       "      <td>1</td>\n",
       "      <td>5</td>\n",
       "      <td>347082</td>\n",
       "      <td>31.275</td>\n",
       "      <td>NaN</td>\n",
       "      <td>S</td>\n",
       "    </tr>\n",
       "    <tr>\n",
       "      <th>813</th>\n",
       "      <td>814</td>\n",
       "      <td>0</td>\n",
       "      <td>3</td>\n",
       "      <td>Andersson, Miss. Ebba Iris Alfrida</td>\n",
       "      <td>female</td>\n",
       "      <td>6.0</td>\n",
       "      <td>4</td>\n",
       "      <td>2</td>\n",
       "      <td>347082</td>\n",
       "      <td>31.275</td>\n",
       "      <td>NaN</td>\n",
       "      <td>S</td>\n",
       "    </tr>\n",
       "    <tr>\n",
       "      <th>850</th>\n",
       "      <td>851</td>\n",
       "      <td>0</td>\n",
       "      <td>3</td>\n",
       "      <td>Andersson, Master. Sigvard Harald Elias</td>\n",
       "      <td>male</td>\n",
       "      <td>4.0</td>\n",
       "      <td>4</td>\n",
       "      <td>2</td>\n",
       "      <td>347082</td>\n",
       "      <td>31.275</td>\n",
       "      <td>NaN</td>\n",
       "      <td>S</td>\n",
       "    </tr>\n",
       "  </tbody>\n",
       "</table>\n",
       "</div>"
      ],
      "text/plain": [
       "     PassengerId  Survived  Pclass  \\\n",
       "13            14         0       3   \n",
       "119          120         0       3   \n",
       "541          542         0       3   \n",
       "542          543         0       3   \n",
       "610          611         0       3   \n",
       "813          814         0       3   \n",
       "850          851         0       3   \n",
       "\n",
       "                                                  Name     Sex   Age  SibSp  \\\n",
       "13                         Andersson, Mr. Anders Johan    male  39.0      1   \n",
       "119                  Andersson, Miss. Ellis Anna Maria  female   2.0      4   \n",
       "541               Andersson, Miss. Ingeborg Constanzia  female   9.0      4   \n",
       "542                  Andersson, Miss. Sigrid Elisabeth  female  11.0      4   \n",
       "610  Andersson, Mrs. Anders Johan (Alfrida Konstant...  female  39.0      1   \n",
       "813                 Andersson, Miss. Ebba Iris Alfrida  female   6.0      4   \n",
       "850            Andersson, Master. Sigvard Harald Elias    male   4.0      4   \n",
       "\n",
       "     Parch  Ticket    Fare Cabin Embarked  \n",
       "13       5  347082  31.275   NaN        S  \n",
       "119      2  347082  31.275   NaN        S  \n",
       "541      2  347082  31.275   NaN        S  \n",
       "542      2  347082  31.275   NaN        S  \n",
       "610      5  347082  31.275   NaN        S  \n",
       "813      2  347082  31.275   NaN        S  \n",
       "850      2  347082  31.275   NaN        S  "
      ]
     },
     "execution_count": 134,
     "metadata": {},
     "output_type": "execute_result"
    }
   ],
   "source": [
    "train[train['Ticket']=='347082']"
   ]
  },
  {
   "cell_type": "code",
   "execution_count": 135,
   "id": "0bee0d29-46b9-414c-bf6d-88cff334c615",
   "metadata": {
    "execution": {
     "iopub.execute_input": "2022-04-15T19:27:12.780768Z",
     "iopub.status.busy": "2022-04-15T19:27:12.780768Z",
     "iopub.status.idle": "2022-04-15T19:27:12.791767Z",
     "shell.execute_reply": "2022-04-15T19:27:12.790780Z",
     "shell.execute_reply.started": "2022-04-15T19:27:12.780768Z"
    },
    "tags": []
   },
   "outputs": [
    {
     "data": {
      "text/plain": [
       "PassengerId      0\n",
       "Survived         0\n",
       "Pclass           0\n",
       "Name             0\n",
       "Sex              0\n",
       "Age            177\n",
       "SibSp            0\n",
       "Parch            0\n",
       "Ticket           0\n",
       "Fare             0\n",
       "Cabin          687\n",
       "Embarked         2\n",
       "dtype: int64"
      ]
     },
     "execution_count": 135,
     "metadata": {},
     "output_type": "execute_result"
    }
   ],
   "source": [
    "train.isna().sum()"
   ]
  },
  {
   "cell_type": "code",
   "execution_count": 136,
   "id": "7340caab-8942-484a-9ce4-e563546fc279",
   "metadata": {
    "execution": {
     "iopub.execute_input": "2022-04-15T19:27:12.792769Z",
     "iopub.status.busy": "2022-04-15T19:27:12.792769Z",
     "iopub.status.idle": "2022-04-15T19:27:12.801777Z",
     "shell.execute_reply": "2022-04-15T19:27:12.801777Z",
     "shell.execute_reply.started": "2022-04-15T19:27:12.792769Z"
    }
   },
   "outputs": [
    {
     "data": {
      "text/plain": [
       "PassengerId     0.000000\n",
       "Survived        0.000000\n",
       "Pclass          0.000000\n",
       "Name            0.000000\n",
       "Sex             0.000000\n",
       "Age            19.865320\n",
       "SibSp           0.000000\n",
       "Parch           0.000000\n",
       "Ticket          0.000000\n",
       "Fare            0.000000\n",
       "Cabin          77.104377\n",
       "Embarked        0.224467\n",
       "dtype: float64"
      ]
     },
     "execution_count": 136,
     "metadata": {},
     "output_type": "execute_result"
    }
   ],
   "source": [
    "100*train.isna().sum()/train.shape[0]"
   ]
  },
  {
   "cell_type": "code",
   "execution_count": 137,
   "id": "74618ec9-f38d-4919-abcd-bbbb3efd6627",
   "metadata": {
    "execution": {
     "iopub.execute_input": "2022-04-15T19:27:12.803768Z",
     "iopub.status.busy": "2022-04-15T19:27:12.803768Z",
     "iopub.status.idle": "2022-04-15T19:27:12.813766Z",
     "shell.execute_reply": "2022-04-15T19:27:12.812767Z",
     "shell.execute_reply.started": "2022-04-15T19:27:12.803768Z"
    },
    "tags": []
   },
   "outputs": [
    {
     "data": {
      "text/plain": [
       "891"
      ]
     },
     "execution_count": 137,
     "metadata": {},
     "output_type": "execute_result"
    }
   ],
   "source": [
    "train['PassengerId'].nunique()"
   ]
  },
  {
   "cell_type": "code",
   "execution_count": 138,
   "id": "77d79c1e-bc68-4551-82e3-5f0a890bb333",
   "metadata": {
    "execution": {
     "iopub.execute_input": "2022-04-15T19:27:12.814774Z",
     "iopub.status.busy": "2022-04-15T19:27:12.814774Z",
     "iopub.status.idle": "2022-04-15T19:27:12.852767Z",
     "shell.execute_reply": "2022-04-15T19:27:12.852767Z",
     "shell.execute_reply.started": "2022-04-15T19:27:12.814774Z"
    }
   },
   "outputs": [
    {
     "data": {
      "text/html": [
       "<div>\n",
       "<style scoped>\n",
       "    .dataframe tbody tr th:only-of-type {\n",
       "        vertical-align: middle;\n",
       "    }\n",
       "\n",
       "    .dataframe tbody tr th {\n",
       "        vertical-align: top;\n",
       "    }\n",
       "\n",
       "    .dataframe thead th {\n",
       "        text-align: right;\n",
       "    }\n",
       "</style>\n",
       "<table border=\"1\" class=\"dataframe\">\n",
       "  <thead>\n",
       "    <tr style=\"text-align: right;\">\n",
       "      <th></th>\n",
       "      <th>PassengerId</th>\n",
       "      <th>Survived</th>\n",
       "      <th>Pclass</th>\n",
       "      <th>Age</th>\n",
       "      <th>SibSp</th>\n",
       "      <th>Parch</th>\n",
       "      <th>Fare</th>\n",
       "    </tr>\n",
       "  </thead>\n",
       "  <tbody>\n",
       "    <tr>\n",
       "      <th>count</th>\n",
       "      <td>891.000000</td>\n",
       "      <td>891.000000</td>\n",
       "      <td>891.000000</td>\n",
       "      <td>714.000000</td>\n",
       "      <td>891.000000</td>\n",
       "      <td>891.000000</td>\n",
       "      <td>891.000000</td>\n",
       "    </tr>\n",
       "    <tr>\n",
       "      <th>mean</th>\n",
       "      <td>446.000000</td>\n",
       "      <td>0.383838</td>\n",
       "      <td>2.308642</td>\n",
       "      <td>29.699118</td>\n",
       "      <td>0.523008</td>\n",
       "      <td>0.381594</td>\n",
       "      <td>32.204208</td>\n",
       "    </tr>\n",
       "    <tr>\n",
       "      <th>std</th>\n",
       "      <td>257.353842</td>\n",
       "      <td>0.486592</td>\n",
       "      <td>0.836071</td>\n",
       "      <td>14.526497</td>\n",
       "      <td>1.102743</td>\n",
       "      <td>0.806057</td>\n",
       "      <td>49.693429</td>\n",
       "    </tr>\n",
       "    <tr>\n",
       "      <th>min</th>\n",
       "      <td>1.000000</td>\n",
       "      <td>0.000000</td>\n",
       "      <td>1.000000</td>\n",
       "      <td>0.420000</td>\n",
       "      <td>0.000000</td>\n",
       "      <td>0.000000</td>\n",
       "      <td>0.000000</td>\n",
       "    </tr>\n",
       "    <tr>\n",
       "      <th>25%</th>\n",
       "      <td>223.500000</td>\n",
       "      <td>0.000000</td>\n",
       "      <td>2.000000</td>\n",
       "      <td>20.125000</td>\n",
       "      <td>0.000000</td>\n",
       "      <td>0.000000</td>\n",
       "      <td>7.910400</td>\n",
       "    </tr>\n",
       "    <tr>\n",
       "      <th>50%</th>\n",
       "      <td>446.000000</td>\n",
       "      <td>0.000000</td>\n",
       "      <td>3.000000</td>\n",
       "      <td>28.000000</td>\n",
       "      <td>0.000000</td>\n",
       "      <td>0.000000</td>\n",
       "      <td>14.454200</td>\n",
       "    </tr>\n",
       "    <tr>\n",
       "      <th>75%</th>\n",
       "      <td>668.500000</td>\n",
       "      <td>1.000000</td>\n",
       "      <td>3.000000</td>\n",
       "      <td>38.000000</td>\n",
       "      <td>1.000000</td>\n",
       "      <td>0.000000</td>\n",
       "      <td>31.000000</td>\n",
       "    </tr>\n",
       "    <tr>\n",
       "      <th>max</th>\n",
       "      <td>891.000000</td>\n",
       "      <td>1.000000</td>\n",
       "      <td>3.000000</td>\n",
       "      <td>80.000000</td>\n",
       "      <td>8.000000</td>\n",
       "      <td>6.000000</td>\n",
       "      <td>512.329200</td>\n",
       "    </tr>\n",
       "  </tbody>\n",
       "</table>\n",
       "</div>"
      ],
      "text/plain": [
       "       PassengerId    Survived      Pclass         Age       SibSp  \\\n",
       "count   891.000000  891.000000  891.000000  714.000000  891.000000   \n",
       "mean    446.000000    0.383838    2.308642   29.699118    0.523008   \n",
       "std     257.353842    0.486592    0.836071   14.526497    1.102743   \n",
       "min       1.000000    0.000000    1.000000    0.420000    0.000000   \n",
       "25%     223.500000    0.000000    2.000000   20.125000    0.000000   \n",
       "50%     446.000000    0.000000    3.000000   28.000000    0.000000   \n",
       "75%     668.500000    1.000000    3.000000   38.000000    1.000000   \n",
       "max     891.000000    1.000000    3.000000   80.000000    8.000000   \n",
       "\n",
       "            Parch        Fare  \n",
       "count  891.000000  891.000000  \n",
       "mean     0.381594   32.204208  \n",
       "std      0.806057   49.693429  \n",
       "min      0.000000    0.000000  \n",
       "25%      0.000000    7.910400  \n",
       "50%      0.000000   14.454200  \n",
       "75%      0.000000   31.000000  \n",
       "max      6.000000  512.329200  "
      ]
     },
     "execution_count": 138,
     "metadata": {},
     "output_type": "execute_result"
    }
   ],
   "source": [
    "train.describe()"
   ]
  },
  {
   "cell_type": "code",
   "execution_count": 139,
   "id": "5417d3f0-c186-4e2e-adfb-b14af991fca2",
   "metadata": {
    "execution": {
     "iopub.execute_input": "2022-04-15T19:27:12.855770Z",
     "iopub.status.busy": "2022-04-15T19:27:12.855770Z",
     "iopub.status.idle": "2022-04-15T19:27:12.957766Z",
     "shell.execute_reply": "2022-04-15T19:27:12.957766Z",
     "shell.execute_reply.started": "2022-04-15T19:27:12.855770Z"
    }
   },
   "outputs": [
    {
     "data": {
      "text/plain": [
       "<AxesSubplot:xlabel='Survived', ylabel='count'>"
      ]
     },
     "execution_count": 139,
     "metadata": {},
     "output_type": "execute_result"
    },
    {
     "data": {
      "image/png": "[encoded data removed]",
      "text/plain": [
       "<Figure size 432x288 with 1 Axes>"
      ]
     },
     "metadata": {
      "needs_background": "light"
     },
     "output_type": "display_data"
    }
   ],
   "source": [
    "sns.countplot(data=train, x='Survived')"
   ]
  },
  {
   "cell_type": "code",
   "execution_count": 140,
   "id": "8e009fc5-c1f4-45c9-8742-35e16052bd5b",
   "metadata": {
    "execution": {
     "iopub.execute_input": "2022-04-15T19:27:12.958766Z",
     "iopub.status.busy": "2022-04-15T19:27:12.958766Z",
     "iopub.status.idle": "2022-04-15T19:27:13.045766Z",
     "shell.execute_reply": "2022-04-15T19:27:13.045766Z",
     "shell.execute_reply.started": "2022-04-15T19:27:12.958766Z"
    },
    "tags": []
   },
   "outputs": [
    {
     "data": {
      "text/plain": [
       "<AxesSubplot:xlabel='Survived', ylabel='count'>"
      ]
     },
     "execution_count": 140,
     "metadata": {},
     "output_type": "execute_result"
    },
    {
     "data": {
      "image/png": "[encoded data removed]",
      "text/plain": [
       "<Figure size 432x288 with 1 Axes>"
      ]
     },
     "metadata": {
      "needs_background": "light"
     },
     "output_type": "display_data"
    }
   ],
   "source": [
    "sns.countplot(x=train['Survived'])"
   ]
  },
  {
   "cell_type": "code",
   "execution_count": 141,
   "id": "92fed1f8-e46c-49e1-8b0b-4ed3b6fcc870",
   "metadata": {
    "execution": {
     "iopub.execute_input": "2022-04-15T19:27:13.047766Z",
     "iopub.status.busy": "2022-04-15T19:27:13.046775Z",
     "iopub.status.idle": "2022-04-15T19:27:13.482766Z",
     "shell.execute_reply": "2022-04-15T19:27:13.482766Z",
     "shell.execute_reply.started": "2022-04-15T19:27:13.047766Z"
    },
    "tags": []
   },
   "outputs": [
    {
     "data": {
      "text/plain": [
       "<AxesSubplot:xlabel='Survived', ylabel='count'>"
      ]
     },
     "execution_count": 141,
     "metadata": {},
     "output_type": "execute_result"
    },
    {
     "data": {
      "image/png": "[encoded data removed]",
      "text/plain": [
       "<Figure size 432x288 with 1 Axes>"
      ]
     },
     "metadata": {
      "needs_background": "light"
     },
     "output_type": "display_data"
    }
   ],
   "source": [
    "sns.countplot(x=train.loc[train['Age']>50, 'Survived'])"
   ]
  },
  {
   "cell_type": "code",
   "execution_count": 142,
   "id": "ba6de2e1-72da-43d1-a897-5d74ef2a35c5",
   "metadata": {
    "execution": {
     "iopub.execute_input": "2022-04-15T19:27:13.484767Z",
     "iopub.status.busy": "2022-04-15T19:27:13.483767Z",
     "iopub.status.idle": "2022-04-15T19:27:13.489768Z",
     "shell.execute_reply": "2022-04-15T19:27:13.489768Z",
     "shell.execute_reply.started": "2022-04-15T19:27:13.484767Z"
    }
   },
   "outputs": [
    {
     "data": {
      "text/plain": [
       "Index(['PassengerId', 'Survived', 'Pclass', 'Name', 'Sex', 'Age', 'SibSp',\n",
       "       'Parch', 'Ticket', 'Fare', 'Cabin', 'Embarked'],\n",
       "      dtype='object')"
      ]
     },
     "execution_count": 142,
     "metadata": {},
     "output_type": "execute_result"
    }
   ],
   "source": [
    "train.columns"
   ]
  },
  {
   "cell_type": "code",
   "execution_count": 143,
   "id": "9ea0b420-e913-410e-91db-3783c4b3b384",
   "metadata": {
    "execution": {
     "iopub.execute_input": "2022-04-15T19:27:13.491766Z",
     "iopub.status.busy": "2022-04-15T19:27:13.490782Z",
     "iopub.status.idle": "2022-04-15T19:27:13.611767Z",
     "shell.execute_reply": "2022-04-15T19:27:13.611767Z",
     "shell.execute_reply.started": "2022-04-15T19:27:13.491766Z"
    }
   },
   "outputs": [
    {
     "data": {
      "text/plain": [
       "<AxesSubplot:xlabel='Survived', ylabel='count'>"
      ]
     },
     "execution_count": 143,
     "metadata": {},
     "output_type": "execute_result"
    },
    {
     "data": {
      "image/png": "[encoded data removed]",
      "text/plain": [
       "<Figure size 432x288 with 1 Axes>"
      ]
     },
     "metadata": {
      "needs_background": "light"
     },
     "output_type": "display_data"
    }
   ],
   "source": [
    "sns.countplot(x=train.loc[(train['Pclass']==1) & (train['Age']>50), 'Survived'])"
   ]
  },
  {
   "cell_type": "code",
   "execution_count": 144,
   "id": "9f6e3b4b-368e-498e-baec-ab97ab67f3af",
   "metadata": {
    "execution": {
     "iopub.execute_input": "2022-04-15T19:27:13.613766Z",
     "iopub.status.busy": "2022-04-15T19:27:13.612768Z",
     "iopub.status.idle": "2022-04-15T19:27:13.719766Z",
     "shell.execute_reply": "2022-04-15T19:27:13.718767Z",
     "shell.execute_reply.started": "2022-04-15T19:27:13.613766Z"
    }
   },
   "outputs": [
    {
     "data": {
      "text/plain": [
       "<AxesSubplot:xlabel='Survived', ylabel='count'>"
      ]
     },
     "execution_count": 144,
     "metadata": {},
     "output_type": "execute_result"
    },
    {
     "data": {
      "image/png": "[encoded data removed]",
      "text/plain": [
       "<Figure size 432x288 with 1 Axes>"
      ]
     },
     "metadata": {
      "needs_background": "light"
     },
     "output_type": "display_data"
    }
   ],
   "source": [
    "sns.countplot(x=train.loc[(train['Pclass']==3) & (train['Age']>50), 'Survived'])"
   ]
  },
  {
   "cell_type": "code",
   "execution_count": 145,
   "id": "022b7fa3-1baa-4cb6-94b8-dd450e5286c8",
   "metadata": {
    "execution": {
     "iopub.execute_input": "2022-04-15T19:27:13.720766Z",
     "iopub.status.busy": "2022-04-15T19:27:13.720766Z",
     "iopub.status.idle": "2022-04-15T19:27:13.836767Z",
     "shell.execute_reply": "2022-04-15T19:27:13.836767Z",
     "shell.execute_reply.started": "2022-04-15T19:27:13.720766Z"
    }
   },
   "outputs": [
    {
     "data": {
      "text/plain": [
       "<AxesSubplot:xlabel='Survived', ylabel='count'>"
      ]
     },
     "execution_count": 145,
     "metadata": {},
     "output_type": "execute_result"
    },
    {
     "data": {
      "image/png": "[encoded data removed]",
      "text/plain": [
       "<Figure size 432x288 with 1 Axes>"
      ]
     },
     "metadata": {
      "needs_background": "light"
     },
     "output_type": "display_data"
    }
   ],
   "source": [
    "sns.countplot(data=train, x='Survived', hue='Sex')"
   ]
  },
  {
   "cell_type": "code",
   "execution_count": 146,
   "id": "8d9b14ca-2aeb-4119-94b9-c0cb165812d4",
   "metadata": {
    "execution": {
     "iopub.execute_input": "2022-04-15T19:27:13.837767Z",
     "iopub.status.busy": "2022-04-15T19:27:13.837767Z",
     "iopub.status.idle": "2022-04-15T19:27:13.842767Z",
     "shell.execute_reply": "2022-04-15T19:27:13.841790Z",
     "shell.execute_reply.started": "2022-04-15T19:27:13.837767Z"
    }
   },
   "outputs": [],
   "source": [
    "sns.set_style('whitegrid')"
   ]
  },
  {
   "cell_type": "code",
   "execution_count": 147,
   "id": "c33c6201-be86-4e68-880e-2e1943496207",
   "metadata": {
    "execution": {
     "iopub.execute_input": "2022-04-15T19:27:13.843768Z",
     "iopub.status.busy": "2022-04-15T19:27:13.842767Z",
     "iopub.status.idle": "2022-04-15T19:27:14.000806Z",
     "shell.execute_reply": "2022-04-15T19:27:14.000806Z",
     "shell.execute_reply.started": "2022-04-15T19:27:13.843768Z"
    },
    "tags": []
   },
   "outputs": [
    {
     "data": {
      "text/plain": [
       "<AxesSubplot:xlabel='Survived', ylabel='count'>"
      ]
     },
     "execution_count": 147,
     "metadata": {},
     "output_type": "execute_result"
    },
    {
     "data": {
      "image/png": "[encoded data removed]",
      "text/plain": [
       "<Figure size 432x288 with 1 Axes>"
      ]
     },
     "metadata": {},
     "output_type": "display_data"
    }
   ],
   "source": [
    "sns.countplot(data=train, x='Survived', hue='Pclass')"
   ]
  },
  {
   "cell_type": "code",
   "execution_count": 148,
   "id": "4dd85d1b-77d2-4c64-b5b4-bcde26340b1b",
   "metadata": {
    "execution": {
     "iopub.execute_input": "2022-04-15T19:27:14.003770Z",
     "iopub.status.busy": "2022-04-15T19:27:14.003060Z",
     "iopub.status.idle": "2022-04-15T19:27:14.008767Z",
     "shell.execute_reply": "2022-04-15T19:27:14.008767Z",
     "shell.execute_reply.started": "2022-04-15T19:27:14.003770Z"
    }
   },
   "outputs": [
    {
     "data": {
      "text/plain": [
       "80.0"
      ]
     },
     "execution_count": 148,
     "metadata": {},
     "output_type": "execute_result"
    }
   ],
   "source": [
    "train['Age'].max()"
   ]
  },
  {
   "cell_type": "code",
   "execution_count": 149,
   "id": "82f61242-8a92-44ca-baa5-dfec6ab5b2f7",
   "metadata": {
    "execution": {
     "iopub.execute_input": "2022-04-15T19:27:14.010768Z",
     "iopub.status.busy": "2022-04-15T19:27:14.010768Z",
     "iopub.status.idle": "2022-04-15T19:27:14.225769Z",
     "shell.execute_reply": "2022-04-15T19:27:14.225769Z",
     "shell.execute_reply.started": "2022-04-15T19:27:14.010768Z"
    }
   },
   "outputs": [
    {
     "data": {
      "text/plain": [
       "<AxesSubplot:>"
      ]
     },
     "execution_count": 149,
     "metadata": {},
     "output_type": "execute_result"
    },
    {
     "data": {
      "image/png": "[encoded data removed]",
      "text/plain": [
       "<Figure size 432x288 with 1 Axes>"
      ]
     },
     "metadata": {},
     "output_type": "display_data"
    }
   ],
   "source": [
    "train['Age'].hist(bins=30)"
   ]
  },
  {
   "cell_type": "code",
   "execution_count": 150,
   "id": "036a7e44-d268-40b4-a35e-16d430495395",
   "metadata": {
    "execution": {
     "iopub.execute_input": "2022-04-15T19:27:14.227783Z",
     "iopub.status.busy": "2022-04-15T19:27:14.226767Z",
     "iopub.status.idle": "2022-04-15T19:27:14.494769Z",
     "shell.execute_reply": "2022-04-15T19:27:14.493803Z",
     "shell.execute_reply.started": "2022-04-15T19:27:14.227783Z"
    },
    "tags": []
   },
   "outputs": [
    {
     "data": {
      "text/plain": [
       "<AxesSubplot:>"
      ]
     },
     "execution_count": 150,
     "metadata": {},
     "output_type": "execute_result"
    },
    {
     "data": {
      "image/png": "[encoded data removed]",
      "text/plain": [
       "<Figure size 432x288 with 1 Axes>"
      ]
     },
     "metadata": {},
     "output_type": "display_data"
    }
   ],
   "source": [
    "train['Age'].hist(bins=80)"
   ]
  },
  {
   "cell_type": "code",
   "execution_count": 151,
   "id": "92a1b6d3-49a1-48b1-b22a-a8857c17bc8d",
   "metadata": {
    "execution": {
     "iopub.execute_input": "2022-04-15T19:27:14.495767Z",
     "iopub.status.busy": "2022-04-15T19:27:14.495767Z",
     "iopub.status.idle": "2022-04-15T19:27:14.643768Z",
     "shell.execute_reply": "2022-04-15T19:27:14.643768Z",
     "shell.execute_reply.started": "2022-04-15T19:27:14.495767Z"
    },
    "tags": []
   },
   "outputs": [
    {
     "data": {
      "text/plain": [
       "<AxesSubplot:xlabel='SibSp', ylabel='count'>"
      ]
     },
     "execution_count": 151,
     "metadata": {},
     "output_type": "execute_result"
    },
    {
     "data": {
      "image/png": "[encoded data removed]",
      "text/plain": [
       "<Figure size 432x288 with 1 Axes>"
      ]
     },
     "metadata": {},
     "output_type": "display_data"
    }
   ],
   "source": [
    "sns.countplot(x=train['SibSp'])"
   ]
  },
  {
   "cell_type": "code",
   "execution_count": 152,
   "id": "aaa28067-9ebb-4644-8245-73df5a9c0296",
   "metadata": {
    "execution": {
     "iopub.execute_input": "2022-04-15T19:27:14.644805Z",
     "iopub.status.busy": "2022-04-15T19:27:14.644805Z",
     "iopub.status.idle": "2022-04-15T19:27:14.651768Z",
     "shell.execute_reply": "2022-04-15T19:27:14.650779Z",
     "shell.execute_reply.started": "2022-04-15T19:27:14.644805Z"
    }
   },
   "outputs": [
    {
     "data": {
      "text/plain": [
       "array([<AxesSubplot:xlabel='Fare', ylabel='Count'>,\n",
       "       <AxesSubplot:xlabel='Age', ylabel='Count'>], dtype=object)"
      ]
     },
     "execution_count": 152,
     "metadata": {},
     "output_type": "execute_result"
    }
   ],
   "source": [
    "ax"
   ]
  },
  {
   "cell_type": "code",
   "execution_count": 153,
   "id": "847a98fa-1d89-4888-9e4a-52de7e7ba034",
   "metadata": {
    "execution": {
     "iopub.execute_input": "2022-04-15T19:27:14.653778Z",
     "iopub.status.busy": "2022-04-15T19:27:14.653778Z",
     "iopub.status.idle": "2022-04-15T19:27:15.134767Z",
     "shell.execute_reply": "2022-04-15T19:27:15.134767Z",
     "shell.execute_reply.started": "2022-04-15T19:27:14.653778Z"
    },
    "tags": []
   },
   "outputs": [
    {
     "data": {
      "text/plain": [
       "<AxesSubplot:xlabel='Age', ylabel='Count'>"
      ]
     },
     "execution_count": 153,
     "metadata": {},
     "output_type": "execute_result"
    },
    {
     "data": {
      "image/png": "[encoded data removed]",
      "text/plain": [
       "<Figure size 1440x432 with 2 Axes>"
      ]
     },
     "metadata": {},
     "output_type": "display_data"
    }
   ],
   "source": [
    "fig, ax = plt.subplots(1, 2, figsize=(20, 6))\n",
    "sns.histplot(x=train['Fare'], ax=ax[0])\n",
    "sns.histplot(x=train['Age'], ax=ax[1])\n",
    "\n",
    "#histplot,couuntplot -> frequency of single variable(single column as input)\n",
    "# pyplot.hist, seaborn.countplot and seaborn.displot\n",
    "#are all helper tools to plot the frequency of a single variabl"
   ]
  },
  {
   "cell_type": "code",
   "execution_count": null,
   "id": "ed928e72-aa47-4db0-ae47-b6628e6cce36",
   "metadata": {},
   "outputs": [],
   "source": []
  },
  {
   "cell_type": "code",
   "execution_count": null,
   "id": "a4126b40-5734-4f33-89d1-c552e1392fc3",
   "metadata": {},
   "outputs": [],
   "source": []
  },
  {
   "cell_type": "code",
   "execution_count": null,
   "id": "176b9c51-e1e3-4ea9-9b35-ec779c4276ea",
   "metadata": {},
   "outputs": [],
   "source": []
  },
  {
   "cell_type": "markdown",
   "id": "62b232e0-0df6-4745-bb03-c5f5772bc2c8",
   "metadata": {},
   "source": [
    "<hr><hr><hr>"
   ]
  },
  {
   "cell_type": "markdown",
   "id": "b7db3d33-8572-48d5-a347-5add11aaba5b",
   "metadata": {},
   "source": [
    "## Data Cleaning"
   ]
  },
  {
   "cell_type": "markdown",
   "id": "cff12af6-3f74-4666-a79c-69520b21bc13",
   "metadata": {
    "execution": {
     "iopub.execute_input": "2022-04-15T17:52:01.265105Z",
     "iopub.status.busy": "2022-04-15T17:52:01.265105Z",
     "iopub.status.idle": "2022-04-15T17:52:01.269106Z",
     "shell.execute_reply": "2022-04-15T17:52:01.269106Z",
     "shell.execute_reply.started": "2022-04-15T17:52:01.265105Z"
    }
   },
   "source": [
    "#### Filling missing values\n",
    "1. Drop feature \n",
    "2. Impute missing values"
   ]
  },
  {
   "cell_type": "markdown",
   "id": "1b5a4041-a1b2-4ca7-b5d1-98645805ecf4",
   "metadata": {},
   "source": [
    "#### Filling missing values of Age"
   ]
  },
  {
   "cell_type": "code",
   "execution_count": 154,
   "id": "415e8015-6818-4c94-8c34-1d9de4817cc2",
   "metadata": {
    "execution": {
     "iopub.execute_input": "2022-04-15T19:27:15.136768Z",
     "iopub.status.busy": "2022-04-15T19:27:15.135779Z",
     "iopub.status.idle": "2022-04-15T19:27:15.291774Z",
     "shell.execute_reply": "2022-04-15T19:27:15.291774Z",
     "shell.execute_reply.started": "2022-04-15T19:27:15.135779Z"
    }
   },
   "outputs": [
    {
     "data": {
      "text/plain": [
       "<AxesSubplot:xlabel='Pclass', ylabel='Age'>"
      ]
     },
     "execution_count": 154,
     "metadata": {},
     "output_type": "execute_result"
    },
    {
     "data": {
      "image/png": "[encoded data removed]",
      "text/plain": [
       "<Figure size 1080x432 with 1 Axes>"
      ]
     },
     "metadata": {},
     "output_type": "display_data"
    }
   ],
   "source": [
    "plt.figure(figsize=(15, 6))\n",
    "sns.boxplot(data=train, x='Pclass', y='Age')"
   ]
  },
  {
   "cell_type": "code",
   "execution_count": 155,
   "id": "5ab29e1c-fdfa-4075-a645-b9d8e4732f1a",
   "metadata": {
    "execution": {
     "iopub.execute_input": "2022-04-15T19:27:15.292769Z",
     "iopub.status.busy": "2022-04-15T19:27:15.292769Z",
     "iopub.status.idle": "2022-04-15T19:27:15.507767Z",
     "shell.execute_reply": "2022-04-15T19:27:15.506767Z",
     "shell.execute_reply.started": "2022-04-15T19:27:15.292769Z"
    },
    "tags": []
   },
   "outputs": [
    {
     "data": {
      "text/plain": [
       "<AxesSubplot:xlabel='Age', ylabel='Density'>"
      ]
     },
     "execution_count": 155,
     "metadata": {},
     "output_type": "execute_result"
    },
    {
     "data": {
      "image/png": "[encoded data removed]",
      "text/plain": [
       "<Figure size 1080x432 with 1 Axes>"
      ]
     },
     "metadata": {},
     "output_type": "display_data"
    }
   ],
   "source": [
    "plt.figure(figsize=(15, 6))\n",
    "sns.kdeplot(data=train, x='Age', hue='Pclass', palette='Set1')"
   ]
  },
  {
   "cell_type": "code",
   "execution_count": 156,
   "id": "4c5c9899-d68f-4e67-964f-181b85278a0b",
   "metadata": {
    "execution": {
     "iopub.execute_input": "2022-04-15T19:27:15.508795Z",
     "iopub.status.busy": "2022-04-15T19:27:15.507767Z",
     "iopub.status.idle": "2022-04-15T19:27:15.514799Z",
     "shell.execute_reply": "2022-04-15T19:27:15.514799Z",
     "shell.execute_reply.started": "2022-04-15T19:27:15.508795Z"
    }
   },
   "outputs": [
    {
     "data": {
      "text/plain": [
       "(7, 12)"
      ]
     },
     "execution_count": 156,
     "metadata": {},
     "output_type": "execute_result"
    }
   ],
   "source": [
    "train.loc[(train['Pclass']==2) & (train['Age']>55)].shape"
   ]
  },
  {
   "cell_type": "code",
   "execution_count": 157,
   "id": "7a3d24e5-932d-43fc-9524-cc3ac434c622",
   "metadata": {
    "execution": {
     "iopub.execute_input": "2022-04-15T19:27:15.520783Z",
     "iopub.status.busy": "2022-04-15T19:27:15.520783Z",
     "iopub.status.idle": "2022-04-15T19:27:15.528767Z",
     "shell.execute_reply": "2022-04-15T19:27:15.528767Z",
     "shell.execute_reply.started": "2022-04-15T19:27:15.520783Z"
    }
   },
   "outputs": [
    {
     "data": {
      "text/plain": [
       "184"
      ]
     },
     "execution_count": 157,
     "metadata": {},
     "output_type": "execute_result"
    }
   ],
   "source": [
    "train.loc[(train['Pclass']==2)].shape[0]"
   ]
  },
  {
   "cell_type": "code",
   "execution_count": 158,
   "id": "e525b5d9-71d8-47d0-bf6f-8a71f5648e1b",
   "metadata": {
    "execution": {
     "iopub.execute_input": "2022-04-15T19:27:15.530767Z",
     "iopub.status.busy": "2022-04-15T19:27:15.529767Z",
     "iopub.status.idle": "2022-04-15T19:27:15.546768Z",
     "shell.execute_reply": "2022-04-15T19:27:15.545767Z",
     "shell.execute_reply.started": "2022-04-15T19:27:15.530767Z"
    }
   },
   "outputs": [],
   "source": [
    "train.loc[(train['Pclass']==1) & (train['Age'].isna()), 'Age'] = train.loc[(train['Pclass']==1), 'Age'].median()\n",
    "train.loc[(train['Pclass']==2) & (train['Age'].isna()), 'Age'] = train.loc[(train['Pclass']==2), 'Age'].median()\n",
    "train.loc[(train['Pclass']==3) & (train['Age'].isna()), 'Age'] = train.loc[(train['Pclass']==3), 'Age'].median()"
   ]
  },
  {
   "cell_type": "code",
   "execution_count": 159,
   "id": "334bc26f-2713-479c-832c-d579ccc0edf0",
   "metadata": {
    "execution": {
     "iopub.execute_input": "2022-04-15T19:27:15.547769Z",
     "iopub.status.busy": "2022-04-15T19:27:15.547769Z",
     "iopub.status.idle": "2022-04-15T19:27:15.560785Z",
     "shell.execute_reply": "2022-04-15T19:27:15.559770Z",
     "shell.execute_reply.started": "2022-04-15T19:27:15.547769Z"
    },
    "tags": []
   },
   "outputs": [
    {
     "data": {
      "text/plain": [
       "PassengerId    0.000000\n",
       "Survived       0.000000\n",
       "Pclass         0.000000\n",
       "Name           0.000000\n",
       "Sex            0.000000\n",
       "Age            0.000000\n",
       "SibSp          0.000000\n",
       "Parch          0.000000\n",
       "Ticket         0.000000\n",
       "Fare           0.000000\n",
       "Cabin          0.771044\n",
       "Embarked       0.002245\n",
       "dtype: float64"
      ]
     },
     "execution_count": 159,
     "metadata": {},
     "output_type": "execute_result"
    }
   ],
   "source": [
    "train.isna().sum()/train.shape[0]"
   ]
  },
  {
   "cell_type": "code",
   "execution_count": 160,
   "id": "d02f90af-df08-4090-9e48-8cdd6dfa9729",
   "metadata": {
    "execution": {
     "iopub.execute_input": "2022-04-15T19:27:15.562771Z",
     "iopub.status.busy": "2022-04-15T19:27:15.562771Z",
     "iopub.status.idle": "2022-04-15T19:27:15.568790Z",
     "shell.execute_reply": "2022-04-15T19:27:15.567770Z",
     "shell.execute_reply.started": "2022-04-15T19:27:15.562771Z"
    }
   },
   "outputs": [],
   "source": [
    "train.drop(columns=['Cabin'], inplace=True)"
   ]
  },
  {
   "cell_type": "code",
   "execution_count": 161,
   "id": "d869edfb-1ee8-42c3-99bc-722698436f4d",
   "metadata": {
    "execution": {
     "iopub.execute_input": "2022-04-15T19:27:15.570766Z",
     "iopub.status.busy": "2022-04-15T19:27:15.570766Z",
     "iopub.status.idle": "2022-04-15T19:27:15.583765Z",
     "shell.execute_reply": "2022-04-15T19:27:15.581781Z",
     "shell.execute_reply.started": "2022-04-15T19:27:15.570766Z"
    }
   },
   "outputs": [
    {
     "data": {
      "text/plain": [
       "PassengerId    0\n",
       "Survived       0\n",
       "Pclass         0\n",
       "Name           0\n",
       "Sex            0\n",
       "Age            0\n",
       "SibSp          0\n",
       "Parch          0\n",
       "Ticket         0\n",
       "Fare           0\n",
       "Embarked       2\n",
       "dtype: int64"
      ]
     },
     "execution_count": 161,
     "metadata": {},
     "output_type": "execute_result"
    }
   ],
   "source": [
    "train.isna().sum()"
   ]
  },
  {
   "cell_type": "code",
   "execution_count": 162,
   "id": "383e1c1c-dbff-4553-bef0-55ad26069e39",
   "metadata": {
    "execution": {
     "iopub.execute_input": "2022-04-15T19:27:15.585775Z",
     "iopub.status.busy": "2022-04-15T19:27:15.584767Z",
     "iopub.status.idle": "2022-04-15T19:27:15.592800Z",
     "shell.execute_reply": "2022-04-15T19:27:15.592800Z",
     "shell.execute_reply.started": "2022-04-15T19:27:15.585775Z"
    }
   },
   "outputs": [
    {
     "data": {
      "text/plain": [
       "(891, 11)"
      ]
     },
     "execution_count": 162,
     "metadata": {},
     "output_type": "execute_result"
    }
   ],
   "source": [
    "train.shape"
   ]
  },
  {
   "cell_type": "code",
   "execution_count": 163,
   "id": "28ae8215-b69c-437a-8f78-ed418a966d5e",
   "metadata": {
    "execution": {
     "iopub.execute_input": "2022-04-15T19:27:15.594767Z",
     "iopub.status.busy": "2022-04-15T19:27:15.593766Z",
     "iopub.status.idle": "2022-04-15T19:27:15.607320Z",
     "shell.execute_reply": "2022-04-15T19:27:15.606768Z",
     "shell.execute_reply.started": "2022-04-15T19:27:15.594767Z"
    }
   },
   "outputs": [],
   "source": [
    "train.dropna(inplace=True)\n",
    "# train = train[train['Embarked'].notna()] -- same as above in this particular case as there is only\n",
    "#null in embarked"
   ]
  },
  {
   "cell_type": "code",
   "execution_count": 164,
   "id": "26cc55d7-2ee1-4927-98cf-80aca242a439",
   "metadata": {
    "execution": {
     "iopub.execute_input": "2022-04-15T19:27:15.609317Z",
     "iopub.status.busy": "2022-04-15T19:27:15.608315Z",
     "iopub.status.idle": "2022-04-15T19:27:15.617329Z",
     "shell.execute_reply": "2022-04-15T19:27:15.617329Z",
     "shell.execute_reply.started": "2022-04-15T19:27:15.609317Z"
    }
   },
   "outputs": [
    {
     "data": {
      "text/plain": [
       "(889, 11)"
      ]
     },
     "execution_count": 164,
     "metadata": {},
     "output_type": "execute_result"
    }
   ],
   "source": [
    "train.shape"
   ]
  },
  {
   "cell_type": "code",
   "execution_count": 165,
   "id": "9a62ab3c-86a5-49c7-bf29-3a5864b79454",
   "metadata": {
    "execution": {
     "iopub.execute_input": "2022-04-15T19:27:15.620316Z",
     "iopub.status.busy": "2022-04-15T19:27:15.619329Z",
     "iopub.status.idle": "2022-04-15T19:27:15.638317Z",
     "shell.execute_reply": "2022-04-15T19:27:15.637318Z",
     "shell.execute_reply.started": "2022-04-15T19:27:15.620316Z"
    }
   },
   "outputs": [
    {
     "data": {
      "text/html": [
       "<div>\n",
       "<style scoped>\n",
       "    .dataframe tbody tr th:only-of-type {\n",
       "        vertical-align: middle;\n",
       "    }\n",
       "\n",
       "    .dataframe tbody tr th {\n",
       "        vertical-align: top;\n",
       "    }\n",
       "\n",
       "    .dataframe thead th {\n",
       "        text-align: right;\n",
       "    }\n",
       "</style>\n",
       "<table border=\"1\" class=\"dataframe\">\n",
       "  <thead>\n",
       "    <tr style=\"text-align: right;\">\n",
       "      <th></th>\n",
       "      <th>PassengerId</th>\n",
       "      <th>Survived</th>\n",
       "      <th>Pclass</th>\n",
       "      <th>Name</th>\n",
       "      <th>Sex</th>\n",
       "      <th>Age</th>\n",
       "      <th>SibSp</th>\n",
       "      <th>Parch</th>\n",
       "      <th>Ticket</th>\n",
       "      <th>Fare</th>\n",
       "      <th>Embarked</th>\n",
       "    </tr>\n",
       "  </thead>\n",
       "  <tbody>\n",
       "    <tr>\n",
       "      <th>0</th>\n",
       "      <td>1</td>\n",
       "      <td>0</td>\n",
       "      <td>3</td>\n",
       "      <td>Braund, Mr. Owen Harris</td>\n",
       "      <td>male</td>\n",
       "      <td>22.0</td>\n",
       "      <td>1</td>\n",
       "      <td>0</td>\n",
       "      <td>A/5 21171</td>\n",
       "      <td>7.2500</td>\n",
       "      <td>S</td>\n",
       "    </tr>\n",
       "    <tr>\n",
       "      <th>1</th>\n",
       "      <td>2</td>\n",
       "      <td>1</td>\n",
       "      <td>1</td>\n",
       "      <td>Cumings, Mrs. John Bradley (Florence Briggs Th...</td>\n",
       "      <td>female</td>\n",
       "      <td>38.0</td>\n",
       "      <td>1</td>\n",
       "      <td>0</td>\n",
       "      <td>PC 17599</td>\n",
       "      <td>71.2833</td>\n",
       "      <td>C</td>\n",
       "    </tr>\n",
       "    <tr>\n",
       "      <th>2</th>\n",
       "      <td>3</td>\n",
       "      <td>1</td>\n",
       "      <td>3</td>\n",
       "      <td>Heikkinen, Miss. Laina</td>\n",
       "      <td>female</td>\n",
       "      <td>26.0</td>\n",
       "      <td>0</td>\n",
       "      <td>0</td>\n",
       "      <td>STON/O2. 3101282</td>\n",
       "      <td>7.9250</td>\n",
       "      <td>S</td>\n",
       "    </tr>\n",
       "    <tr>\n",
       "      <th>3</th>\n",
       "      <td>4</td>\n",
       "      <td>1</td>\n",
       "      <td>1</td>\n",
       "      <td>Futrelle, Mrs. Jacques Heath (Lily May Peel)</td>\n",
       "      <td>female</td>\n",
       "      <td>35.0</td>\n",
       "      <td>1</td>\n",
       "      <td>0</td>\n",
       "      <td>113803</td>\n",
       "      <td>53.1000</td>\n",
       "      <td>S</td>\n",
       "    </tr>\n",
       "    <tr>\n",
       "      <th>4</th>\n",
       "      <td>5</td>\n",
       "      <td>0</td>\n",
       "      <td>3</td>\n",
       "      <td>Allen, Mr. William Henry</td>\n",
       "      <td>male</td>\n",
       "      <td>35.0</td>\n",
       "      <td>0</td>\n",
       "      <td>0</td>\n",
       "      <td>373450</td>\n",
       "      <td>8.0500</td>\n",
       "      <td>S</td>\n",
       "    </tr>\n",
       "  </tbody>\n",
       "</table>\n",
       "</div>"
      ],
      "text/plain": [
       "   PassengerId  Survived  Pclass  \\\n",
       "0            1         0       3   \n",
       "1            2         1       1   \n",
       "2            3         1       3   \n",
       "3            4         1       1   \n",
       "4            5         0       3   \n",
       "\n",
       "                                                Name     Sex   Age  SibSp  \\\n",
       "0                            Braund, Mr. Owen Harris    male  22.0      1   \n",
       "1  Cumings, Mrs. John Bradley (Florence Briggs Th...  female  38.0      1   \n",
       "2                             Heikkinen, Miss. Laina  female  26.0      0   \n",
       "3       Futrelle, Mrs. Jacques Heath (Lily May Peel)  female  35.0      1   \n",
       "4                           Allen, Mr. William Henry    male  35.0      0   \n",
       "\n",
       "   Parch            Ticket     Fare Embarked  \n",
       "0      0         A/5 21171   7.2500        S  \n",
       "1      0          PC 17599  71.2833        C  \n",
       "2      0  STON/O2. 3101282   7.9250        S  \n",
       "3      0            113803  53.1000        S  \n",
       "4      0            373450   8.0500        S  "
      ]
     },
     "execution_count": 165,
     "metadata": {},
     "output_type": "execute_result"
    }
   ],
   "source": [
    "train.head()"
   ]
  },
  {
   "cell_type": "code",
   "execution_count": 166,
   "id": "1deadefd-8c1c-4483-9d60-7832ac8b7441",
   "metadata": {
    "execution": {
     "iopub.execute_input": "2022-04-15T19:27:15.639316Z",
     "iopub.status.busy": "2022-04-15T19:27:15.639316Z",
     "iopub.status.idle": "2022-04-15T19:27:15.647317Z",
     "shell.execute_reply": "2022-04-15T19:27:15.646318Z",
     "shell.execute_reply.started": "2022-04-15T19:27:15.639316Z"
    }
   },
   "outputs": [
    {
     "data": {
      "text/plain": [
       "array(['S', 'C', 'Q'], dtype=object)"
      ]
     },
     "execution_count": 166,
     "metadata": {},
     "output_type": "execute_result"
    }
   ],
   "source": [
    "train['Embarked'].unique()"
   ]
  },
  {
   "cell_type": "code",
   "execution_count": 167,
   "id": "f69ee812-1414-40d0-becc-6db041ec3e32",
   "metadata": {
    "execution": {
     "iopub.execute_input": "2022-04-15T19:27:15.649317Z",
     "iopub.status.busy": "2022-04-15T19:27:15.648317Z",
     "iopub.status.idle": "2022-04-15T19:27:15.661317Z",
     "shell.execute_reply": "2022-04-15T19:27:15.661317Z",
     "shell.execute_reply.started": "2022-04-15T19:27:15.649317Z"
    },
    "tags": []
   },
   "outputs": [
    {
     "data": {
      "text/html": [
       "<div>\n",
       "<style scoped>\n",
       "    .dataframe tbody tr th:only-of-type {\n",
       "        vertical-align: middle;\n",
       "    }\n",
       "\n",
       "    .dataframe tbody tr th {\n",
       "        vertical-align: top;\n",
       "    }\n",
       "\n",
       "    .dataframe thead th {\n",
       "        text-align: right;\n",
       "    }\n",
       "</style>\n",
       "<table border=\"1\" class=\"dataframe\">\n",
       "  <thead>\n",
       "    <tr style=\"text-align: right;\">\n",
       "      <th></th>\n",
       "      <th>Q</th>\n",
       "      <th>S</th>\n",
       "    </tr>\n",
       "  </thead>\n",
       "  <tbody>\n",
       "    <tr>\n",
       "      <th>0</th>\n",
       "      <td>0</td>\n",
       "      <td>1</td>\n",
       "    </tr>\n",
       "    <tr>\n",
       "      <th>1</th>\n",
       "      <td>0</td>\n",
       "      <td>0</td>\n",
       "    </tr>\n",
       "    <tr>\n",
       "      <th>2</th>\n",
       "      <td>0</td>\n",
       "      <td>1</td>\n",
       "    </tr>\n",
       "    <tr>\n",
       "      <th>3</th>\n",
       "      <td>0</td>\n",
       "      <td>1</td>\n",
       "    </tr>\n",
       "    <tr>\n",
       "      <th>4</th>\n",
       "      <td>0</td>\n",
       "      <td>1</td>\n",
       "    </tr>\n",
       "    <tr>\n",
       "      <th>...</th>\n",
       "      <td>...</td>\n",
       "      <td>...</td>\n",
       "    </tr>\n",
       "    <tr>\n",
       "      <th>886</th>\n",
       "      <td>0</td>\n",
       "      <td>1</td>\n",
       "    </tr>\n",
       "    <tr>\n",
       "      <th>887</th>\n",
       "      <td>0</td>\n",
       "      <td>1</td>\n",
       "    </tr>\n",
       "    <tr>\n",
       "      <th>888</th>\n",
       "      <td>0</td>\n",
       "      <td>1</td>\n",
       "    </tr>\n",
       "    <tr>\n",
       "      <th>889</th>\n",
       "      <td>0</td>\n",
       "      <td>0</td>\n",
       "    </tr>\n",
       "    <tr>\n",
       "      <th>890</th>\n",
       "      <td>1</td>\n",
       "      <td>0</td>\n",
       "    </tr>\n",
       "  </tbody>\n",
       "</table>\n",
       "<p>889 rows × 2 columns</p>\n",
       "</div>"
      ],
      "text/plain": [
       "     Q  S\n",
       "0    0  1\n",
       "1    0  0\n",
       "2    0  1\n",
       "3    0  1\n",
       "4    0  1\n",
       "..  .. ..\n",
       "886  0  1\n",
       "887  0  1\n",
       "888  0  1\n",
       "889  0  0\n",
       "890  1  0\n",
       "\n",
       "[889 rows x 2 columns]"
      ]
     },
     "execution_count": 167,
     "metadata": {},
     "output_type": "execute_result"
    }
   ],
   "source": [
    "pd.get_dummies(train['Embarked']).drop(columns=['C'])"
   ]
  },
  {
   "cell_type": "code",
   "execution_count": 168,
   "id": "3192efd8-433d-41ab-887f-f6623e6fe095",
   "metadata": {
    "execution": {
     "iopub.execute_input": "2022-04-15T19:27:15.663318Z",
     "iopub.status.busy": "2022-04-15T19:27:15.662316Z",
     "iopub.status.idle": "2022-04-15T19:27:15.671319Z",
     "shell.execute_reply": "2022-04-15T19:27:15.670332Z",
     "shell.execute_reply.started": "2022-04-15T19:27:15.663318Z"
    },
    "tags": []
   },
   "outputs": [],
   "source": [
    "temp = pd.get_dummies(train['Embarked']).drop(columns=['C'])"
   ]
  },
  {
   "cell_type": "code",
   "execution_count": 174,
   "id": "7a395769-4c17-4e96-a3de-36af220bb48d",
   "metadata": {
    "execution": {
     "iopub.execute_input": "2022-04-15T19:27:53.376149Z",
     "iopub.status.busy": "2022-04-15T19:27:53.375151Z",
     "iopub.status.idle": "2022-04-15T19:27:53.382151Z",
     "shell.execute_reply": "2022-04-15T19:27:53.382151Z",
     "shell.execute_reply.started": "2022-04-15T19:27:53.375151Z"
    }
   },
   "outputs": [
    {
     "data": {
      "text/html": [
       "<div>\n",
       "<style scoped>\n",
       "    .dataframe tbody tr th:only-of-type {\n",
       "        vertical-align: middle;\n",
       "    }\n",
       "\n",
       "    .dataframe tbody tr th {\n",
       "        vertical-align: top;\n",
       "    }\n",
       "\n",
       "    .dataframe thead th {\n",
       "        text-align: right;\n",
       "    }\n",
       "</style>\n",
       "<table border=\"1\" class=\"dataframe\">\n",
       "  <thead>\n",
       "    <tr style=\"text-align: right;\">\n",
       "      <th></th>\n",
       "      <th>Q</th>\n",
       "      <th>S</th>\n",
       "    </tr>\n",
       "  </thead>\n",
       "  <tbody>\n",
       "    <tr>\n",
       "      <th>0</th>\n",
       "      <td>0</td>\n",
       "      <td>1</td>\n",
       "    </tr>\n",
       "    <tr>\n",
       "      <th>1</th>\n",
       "      <td>0</td>\n",
       "      <td>0</td>\n",
       "    </tr>\n",
       "    <tr>\n",
       "      <th>2</th>\n",
       "      <td>0</td>\n",
       "      <td>1</td>\n",
       "    </tr>\n",
       "    <tr>\n",
       "      <th>3</th>\n",
       "      <td>0</td>\n",
       "      <td>1</td>\n",
       "    </tr>\n",
       "    <tr>\n",
       "      <th>4</th>\n",
       "      <td>0</td>\n",
       "      <td>1</td>\n",
       "    </tr>\n",
       "  </tbody>\n",
       "</table>\n",
       "</div>"
      ],
      "text/plain": [
       "   Q  S\n",
       "0  0  1\n",
       "1  0  0\n",
       "2  0  1\n",
       "3  0  1\n",
       "4  0  1"
      ]
     },
     "execution_count": 174,
     "metadata": {},
     "output_type": "execute_result"
    }
   ],
   "source": [
    "temp.head()"
   ]
  },
  {
   "cell_type": "code",
   "execution_count": 169,
   "id": "de29b568-2a9a-4b47-a682-d1e523b8e9c4",
   "metadata": {
    "execution": {
     "iopub.execute_input": "2022-04-15T19:27:15.673318Z",
     "iopub.status.busy": "2022-04-15T19:27:15.672317Z",
     "iopub.status.idle": "2022-04-15T19:27:15.681315Z",
     "shell.execute_reply": "2022-04-15T19:27:15.681315Z",
     "shell.execute_reply.started": "2022-04-15T19:27:15.673318Z"
    },
    "tags": []
   },
   "outputs": [],
   "source": [
    "train.drop(columns=['Embarked'], inplace=True)"
   ]
  },
  {
   "cell_type": "code",
   "execution_count": 170,
   "id": "35ab3908-26be-47b1-9c2d-ea9e23947922",
   "metadata": {
    "execution": {
     "iopub.execute_input": "2022-04-15T19:27:18.913909Z",
     "iopub.status.busy": "2022-04-15T19:27:18.913909Z",
     "iopub.status.idle": "2022-04-15T19:27:18.918910Z",
     "shell.execute_reply": "2022-04-15T19:27:18.918910Z",
     "shell.execute_reply.started": "2022-04-15T19:27:18.913909Z"
    }
   },
   "outputs": [],
   "source": [
    "train = pd.concat([train, temp], axis=1)"
   ]
  },
  {
   "cell_type": "code",
   "execution_count": 172,
   "id": "c51d8844-acbb-431f-a87f-f6eb6bd00958",
   "metadata": {
    "execution": {
     "iopub.execute_input": "2022-04-15T19:27:32.485322Z",
     "iopub.status.busy": "2022-04-15T19:27:32.485322Z",
     "iopub.status.idle": "2022-04-15T19:27:32.490325Z",
     "shell.execute_reply": "2022-04-15T19:27:32.490325Z",
     "shell.execute_reply.started": "2022-04-15T19:27:32.485322Z"
    },
    "tags": []
   },
   "outputs": [],
   "source": [
    "train.loc[(train['Sex']=='female'), 'Sex'] = 0\n",
    "train.loc[(train['Sex']=='male'), 'Sex'] = 1"
   ]
  },
  {
   "cell_type": "code",
   "execution_count": 173,
   "id": "c89d5d91-b5ac-49f5-8e18-be4f23ba099e",
   "metadata": {
    "execution": {
     "iopub.execute_input": "2022-04-15T19:27:35.040322Z",
     "iopub.status.busy": "2022-04-15T19:27:35.040322Z",
     "iopub.status.idle": "2022-04-15T19:27:35.052325Z",
     "shell.execute_reply": "2022-04-15T19:27:35.052325Z",
     "shell.execute_reply.started": "2022-04-15T19:27:35.040322Z"
    },
    "tags": []
   },
   "outputs": [
    {
     "data": {
      "text/html": [
       "<div>\n",
       "<style scoped>\n",
       "    .dataframe tbody tr th:only-of-type {\n",
       "        vertical-align: middle;\n",
       "    }\n",
       "\n",
       "    .dataframe tbody tr th {\n",
       "        vertical-align: top;\n",
       "    }\n",
       "\n",
       "    .dataframe thead th {\n",
       "        text-align: right;\n",
       "    }\n",
       "</style>\n",
       "<table border=\"1\" class=\"dataframe\">\n",
       "  <thead>\n",
       "    <tr style=\"text-align: right;\">\n",
       "      <th></th>\n",
       "      <th>PassengerId</th>\n",
       "      <th>Survived</th>\n",
       "      <th>Pclass</th>\n",
       "      <th>Name</th>\n",
       "      <th>Sex</th>\n",
       "      <th>Age</th>\n",
       "      <th>SibSp</th>\n",
       "      <th>Parch</th>\n",
       "      <th>Ticket</th>\n",
       "      <th>Fare</th>\n",
       "      <th>Q</th>\n",
       "      <th>S</th>\n",
       "    </tr>\n",
       "  </thead>\n",
       "  <tbody>\n",
       "    <tr>\n",
       "      <th>0</th>\n",
       "      <td>1</td>\n",
       "      <td>0</td>\n",
       "      <td>3</td>\n",
       "      <td>Braund, Mr. Owen Harris</td>\n",
       "      <td>1</td>\n",
       "      <td>22.0</td>\n",
       "      <td>1</td>\n",
       "      <td>0</td>\n",
       "      <td>A/5 21171</td>\n",
       "      <td>7.2500</td>\n",
       "      <td>0</td>\n",
       "      <td>1</td>\n",
       "    </tr>\n",
       "    <tr>\n",
       "      <th>1</th>\n",
       "      <td>2</td>\n",
       "      <td>1</td>\n",
       "      <td>1</td>\n",
       "      <td>Cumings, Mrs. John Bradley (Florence Briggs Th...</td>\n",
       "      <td>0</td>\n",
       "      <td>38.0</td>\n",
       "      <td>1</td>\n",
       "      <td>0</td>\n",
       "      <td>PC 17599</td>\n",
       "      <td>71.2833</td>\n",
       "      <td>0</td>\n",
       "      <td>0</td>\n",
       "    </tr>\n",
       "    <tr>\n",
       "      <th>2</th>\n",
       "      <td>3</td>\n",
       "      <td>1</td>\n",
       "      <td>3</td>\n",
       "      <td>Heikkinen, Miss. Laina</td>\n",
       "      <td>0</td>\n",
       "      <td>26.0</td>\n",
       "      <td>0</td>\n",
       "      <td>0</td>\n",
       "      <td>STON/O2. 3101282</td>\n",
       "      <td>7.9250</td>\n",
       "      <td>0</td>\n",
       "      <td>1</td>\n",
       "    </tr>\n",
       "    <tr>\n",
       "      <th>3</th>\n",
       "      <td>4</td>\n",
       "      <td>1</td>\n",
       "      <td>1</td>\n",
       "      <td>Futrelle, Mrs. Jacques Heath (Lily May Peel)</td>\n",
       "      <td>0</td>\n",
       "      <td>35.0</td>\n",
       "      <td>1</td>\n",
       "      <td>0</td>\n",
       "      <td>113803</td>\n",
       "      <td>53.1000</td>\n",
       "      <td>0</td>\n",
       "      <td>1</td>\n",
       "    </tr>\n",
       "    <tr>\n",
       "      <th>4</th>\n",
       "      <td>5</td>\n",
       "      <td>0</td>\n",
       "      <td>3</td>\n",
       "      <td>Allen, Mr. William Henry</td>\n",
       "      <td>1</td>\n",
       "      <td>35.0</td>\n",
       "      <td>0</td>\n",
       "      <td>0</td>\n",
       "      <td>373450</td>\n",
       "      <td>8.0500</td>\n",
       "      <td>0</td>\n",
       "      <td>1</td>\n",
       "    </tr>\n",
       "  </tbody>\n",
       "</table>\n",
       "</div>"
      ],
      "text/plain": [
       "   PassengerId  Survived  Pclass  \\\n",
       "0            1         0       3   \n",
       "1            2         1       1   \n",
       "2            3         1       3   \n",
       "3            4         1       1   \n",
       "4            5         0       3   \n",
       "\n",
       "                                                Name Sex   Age  SibSp  Parch  \\\n",
       "0                            Braund, Mr. Owen Harris   1  22.0      1      0   \n",
       "1  Cumings, Mrs. John Bradley (Florence Briggs Th...   0  38.0      1      0   \n",
       "2                             Heikkinen, Miss. Laina   0  26.0      0      0   \n",
       "3       Futrelle, Mrs. Jacques Heath (Lily May Peel)   0  35.0      1      0   \n",
       "4                           Allen, Mr. William Henry   1  35.0      0      0   \n",
       "\n",
       "             Ticket     Fare  Q  S  \n",
       "0         A/5 21171   7.2500  0  1  \n",
       "1          PC 17599  71.2833  0  0  \n",
       "2  STON/O2. 3101282   7.9250  0  1  \n",
       "3            113803  53.1000  0  1  \n",
       "4            373450   8.0500  0  1  "
      ]
     },
     "execution_count": 173,
     "metadata": {},
     "output_type": "execute_result"
    }
   ],
   "source": [
    "train.head()"
   ]
  },
  {
   "cell_type": "code",
   "execution_count": 175,
   "id": "85a0aa5c-b1d0-46bd-b9dc-99c16c99c114",
   "metadata": {
    "execution": {
     "iopub.execute_input": "2022-04-15T19:29:20.905660Z",
     "iopub.status.busy": "2022-04-15T19:29:20.905660Z",
     "iopub.status.idle": "2022-04-15T19:29:20.911701Z",
     "shell.execute_reply": "2022-04-15T19:29:20.911701Z",
     "shell.execute_reply.started": "2022-04-15T19:29:20.905660Z"
    }
   },
   "outputs": [],
   "source": [
    "train.drop(['Name', 'Ticket'], axis=1, inplace=True)"
   ]
  },
  {
   "cell_type": "code",
   "execution_count": 176,
   "id": "c0d142e5-d839-413d-914c-6a3bc83c0aed",
   "metadata": {
    "execution": {
     "iopub.execute_input": "2022-04-15T19:29:24.506152Z",
     "iopub.status.busy": "2022-04-15T19:29:24.506152Z",
     "iopub.status.idle": "2022-04-15T19:29:24.521151Z",
     "shell.execute_reply": "2022-04-15T19:29:24.520152Z",
     "shell.execute_reply.started": "2022-04-15T19:29:24.506152Z"
    }
   },
   "outputs": [
    {
     "data": {
      "text/html": [
       "<div>\n",
       "<style scoped>\n",
       "    .dataframe tbody tr th:only-of-type {\n",
       "        vertical-align: middle;\n",
       "    }\n",
       "\n",
       "    .dataframe tbody tr th {\n",
       "        vertical-align: top;\n",
       "    }\n",
       "\n",
       "    .dataframe thead th {\n",
       "        text-align: right;\n",
       "    }\n",
       "</style>\n",
       "<table border=\"1\" class=\"dataframe\">\n",
       "  <thead>\n",
       "    <tr style=\"text-align: right;\">\n",
       "      <th></th>\n",
       "      <th>PassengerId</th>\n",
       "      <th>Survived</th>\n",
       "      <th>Pclass</th>\n",
       "      <th>Sex</th>\n",
       "      <th>Age</th>\n",
       "      <th>SibSp</th>\n",
       "      <th>Parch</th>\n",
       "      <th>Fare</th>\n",
       "      <th>Q</th>\n",
       "      <th>S</th>\n",
       "    </tr>\n",
       "  </thead>\n",
       "  <tbody>\n",
       "    <tr>\n",
       "      <th>0</th>\n",
       "      <td>1</td>\n",
       "      <td>0</td>\n",
       "      <td>3</td>\n",
       "      <td>1</td>\n",
       "      <td>22.0</td>\n",
       "      <td>1</td>\n",
       "      <td>0</td>\n",
       "      <td>7.2500</td>\n",
       "      <td>0</td>\n",
       "      <td>1</td>\n",
       "    </tr>\n",
       "    <tr>\n",
       "      <th>1</th>\n",
       "      <td>2</td>\n",
       "      <td>1</td>\n",
       "      <td>1</td>\n",
       "      <td>0</td>\n",
       "      <td>38.0</td>\n",
       "      <td>1</td>\n",
       "      <td>0</td>\n",
       "      <td>71.2833</td>\n",
       "      <td>0</td>\n",
       "      <td>0</td>\n",
       "    </tr>\n",
       "    <tr>\n",
       "      <th>2</th>\n",
       "      <td>3</td>\n",
       "      <td>1</td>\n",
       "      <td>3</td>\n",
       "      <td>0</td>\n",
       "      <td>26.0</td>\n",
       "      <td>0</td>\n",
       "      <td>0</td>\n",
       "      <td>7.9250</td>\n",
       "      <td>0</td>\n",
       "      <td>1</td>\n",
       "    </tr>\n",
       "    <tr>\n",
       "      <th>3</th>\n",
       "      <td>4</td>\n",
       "      <td>1</td>\n",
       "      <td>1</td>\n",
       "      <td>0</td>\n",
       "      <td>35.0</td>\n",
       "      <td>1</td>\n",
       "      <td>0</td>\n",
       "      <td>53.1000</td>\n",
       "      <td>0</td>\n",
       "      <td>1</td>\n",
       "    </tr>\n",
       "    <tr>\n",
       "      <th>4</th>\n",
       "      <td>5</td>\n",
       "      <td>0</td>\n",
       "      <td>3</td>\n",
       "      <td>1</td>\n",
       "      <td>35.0</td>\n",
       "      <td>0</td>\n",
       "      <td>0</td>\n",
       "      <td>8.0500</td>\n",
       "      <td>0</td>\n",
       "      <td>1</td>\n",
       "    </tr>\n",
       "  </tbody>\n",
       "</table>\n",
       "</div>"
      ],
      "text/plain": [
       "   PassengerId  Survived  Pclass Sex   Age  SibSp  Parch     Fare  Q  S\n",
       "0            1         0       3   1  22.0      1      0   7.2500  0  1\n",
       "1            2         1       1   0  38.0      1      0  71.2833  0  0\n",
       "2            3         1       3   0  26.0      0      0   7.9250  0  1\n",
       "3            4         1       1   0  35.0      1      0  53.1000  0  1\n",
       "4            5         0       3   1  35.0      0      0   8.0500  0  1"
      ]
     },
     "execution_count": 176,
     "metadata": {},
     "output_type": "execute_result"
    }
   ],
   "source": [
    "train.head()"
   ]
  },
  {
   "cell_type": "code",
   "execution_count": null,
   "id": "cd6b4d30-4d70-4309-8702-02d3880394df",
   "metadata": {},
   "outputs": [],
   "source": []
  },
  {
   "cell_type": "code",
   "execution_count": null,
   "id": "150315a4-2d15-4369-a84b-b6f770a1cac3",
   "metadata": {},
   "outputs": [],
   "source": []
  },
  {
   "cell_type": "code",
   "execution_count": null,
   "id": "f493fa4c-2ddd-4385-9fae-12f7e54e5744",
   "metadata": {},
   "outputs": [],
   "source": []
  },
  {
   "cell_type": "markdown",
   "id": "59e9f1e3-088c-4e7b-943e-27dba79e370b",
   "metadata": {},
   "source": [
    "<hr><hr><hr>"
   ]
  },
  {
   "cell_type": "code",
   "execution_count": 177,
   "id": "2d5a438e-789e-4979-8b10-3e77fc65f420",
   "metadata": {
    "execution": {
     "iopub.execute_input": "2022-04-15T19:32:14.592095Z",
     "iopub.status.busy": "2022-04-15T19:32:14.592095Z",
     "iopub.status.idle": "2022-04-15T19:32:15.193503Z",
     "shell.execute_reply": "2022-04-15T19:32:15.193503Z",
     "shell.execute_reply.started": "2022-04-15T19:32:14.592095Z"
    }
   },
   "outputs": [],
   "source": [
    "from sklearn.model_selection import train_test_split"
   ]
  },
  {
   "cell_type": "code",
   "execution_count": 274,
   "id": "628bafbc-a340-491c-80db-48556d35715c",
   "metadata": {
    "execution": {
     "iopub.execute_input": "2022-04-15T19:54:51.009527Z",
     "iopub.status.busy": "2022-04-15T19:54:51.009527Z",
     "iopub.status.idle": "2022-04-15T19:54:51.016524Z",
     "shell.execute_reply": "2022-04-15T19:54:51.016524Z",
     "shell.execute_reply.started": "2022-04-15T19:54:51.009527Z"
    },
    "tags": []
   },
   "outputs": [],
   "source": [
    "X_train, X_test, y_train, y_test = train_test_split(train.drop(columns=['Survived']), train['Survived'], test_size=0.3, random_state=101)"
   ]
  },
  {
   "cell_type": "code",
   "execution_count": 275,
   "id": "1bcb51ba-7d22-4e2e-9d66-7a0df2977213",
   "metadata": {
    "execution": {
     "iopub.execute_input": "2022-04-15T19:54:51.375065Z",
     "iopub.status.busy": "2022-04-15T19:54:51.375065Z",
     "iopub.status.idle": "2022-04-15T19:54:51.382031Z",
     "shell.execute_reply": "2022-04-15T19:54:51.382031Z",
     "shell.execute_reply.started": "2022-04-15T19:54:51.375065Z"
    },
    "tags": []
   },
   "outputs": [
    {
     "data": {
      "text/plain": [
       "((622, 9), (267, 9), (622,), (267,))"
      ]
     },
     "execution_count": 275,
     "metadata": {},
     "output_type": "execute_result"
    }
   ],
   "source": [
    "X_train.shape, X_test.shape, y_train.shape, y_test.shape"
   ]
  },
  {
   "cell_type": "code",
   "execution_count": 276,
   "id": "6911d5b5-fd31-4e3b-ab49-685bc46a226d",
   "metadata": {
    "execution": {
     "iopub.execute_input": "2022-04-15T19:54:51.866343Z",
     "iopub.status.busy": "2022-04-15T19:54:51.865393Z",
     "iopub.status.idle": "2022-04-15T19:54:51.869339Z",
     "shell.execute_reply": "2022-04-15T19:54:51.869339Z",
     "shell.execute_reply.started": "2022-04-15T19:54:51.866343Z"
    },
    "tags": []
   },
   "outputs": [],
   "source": [
    "from sklearn.linear_model import LogisticRegression"
   ]
  },
  {
   "cell_type": "code",
   "execution_count": 277,
   "id": "8d5f09fb-60ec-4c43-b0e3-636ac491e163",
   "metadata": {
    "execution": {
     "iopub.execute_input": "2022-04-15T19:54:51.903341Z",
     "iopub.status.busy": "2022-04-15T19:54:51.902341Z",
     "iopub.status.idle": "2022-04-15T19:54:51.915338Z",
     "shell.execute_reply": "2022-04-15T19:54:51.914353Z",
     "shell.execute_reply.started": "2022-04-15T19:54:51.903341Z"
    },
    "tags": []
   },
   "outputs": [
    {
     "data": {
      "text/plain": [
       "LogisticRegression(solver='liblinear')"
      ]
     },
     "execution_count": 277,
     "metadata": {},
     "output_type": "execute_result"
    }
   ],
   "source": [
    "model = LogisticRegression(solver='liblinear')\n",
    "model.fit(X_train,y_train)"
   ]
  },
  {
   "cell_type": "code",
   "execution_count": 278,
   "id": "3745a513-100d-4e26-8c4f-57caaafebe4a",
   "metadata": {
    "execution": {
     "iopub.execute_input": "2022-04-15T19:54:51.946342Z",
     "iopub.status.busy": "2022-04-15T19:54:51.945344Z",
     "iopub.status.idle": "2022-04-15T19:54:51.953340Z",
     "shell.execute_reply": "2022-04-15T19:54:51.952357Z",
     "shell.execute_reply.started": "2022-04-15T19:54:51.946342Z"
    },
    "tags": []
   },
   "outputs": [],
   "source": [
    "y_pred = model.predict(X_test)"
   ]
  },
  {
   "cell_type": "code",
   "execution_count": 279,
   "id": "5798b7f4-6606-4a14-bc93-627a29355a67",
   "metadata": {
    "execution": {
     "iopub.execute_input": "2022-04-15T19:54:51.958337Z",
     "iopub.status.busy": "2022-04-15T19:54:51.958337Z",
     "iopub.status.idle": "2022-04-15T19:54:51.964385Z",
     "shell.execute_reply": "2022-04-15T19:54:51.963355Z",
     "shell.execute_reply.started": "2022-04-15T19:54:51.958337Z"
    },
    "tags": []
   },
   "outputs": [],
   "source": [
    "from sklearn.metrics import accuracy_score, confusion_matrix"
   ]
  },
  {
   "cell_type": "code",
   "execution_count": 280,
   "id": "340a677a-ac82-4e6f-8f1c-ce658aeabb0f",
   "metadata": {
    "execution": {
     "iopub.execute_input": "2022-04-15T19:54:51.989342Z",
     "iopub.status.busy": "2022-04-15T19:54:51.989342Z",
     "iopub.status.idle": "2022-04-15T19:54:51.998356Z",
     "shell.execute_reply": "2022-04-15T19:54:51.997364Z",
     "shell.execute_reply.started": "2022-04-15T19:54:51.989342Z"
    },
    "tags": []
   },
   "outputs": [
    {
     "data": {
      "text/plain": [
       "array([[151,  12],\n",
       "       [ 36,  68]], dtype=int64)"
      ]
     },
     "execution_count": 280,
     "metadata": {},
     "output_type": "execute_result"
    }
   ],
   "source": [
    "confusion_matrix(y_test, y_pred)"
   ]
  },
  {
   "cell_type": "code",
   "execution_count": 287,
   "id": "6815d525-61a5-40e8-9939-c4a6123d01bc",
   "metadata": {
    "execution": {
     "iopub.execute_input": "2022-04-15T19:57:49.147016Z",
     "iopub.status.busy": "2022-04-15T19:57:49.147016Z",
     "iopub.status.idle": "2022-04-15T19:57:49.156028Z",
     "shell.execute_reply": "2022-04-15T19:57:49.155018Z",
     "shell.execute_reply.started": "2022-04-15T19:57:49.147016Z"
    },
    "tags": []
   },
   "outputs": [
    {
     "data": {
      "text/plain": [
       "0.8202247191011236"
      ]
     },
     "execution_count": 287,
     "metadata": {},
     "output_type": "execute_result"
    }
   ],
   "source": [
    "accuracy_score(y_test, y_pred)"
   ]
  },
  {
   "cell_type": "code",
   "execution_count": null,
   "id": "2d988cc5-ca73-442a-97cc-c015ee346e75",
   "metadata": {},
   "outputs": [],
   "source": []
  }
 ],
 "metadata": {
  "kernelspec": {
   "display_name": "Python 3 (ipykernel)",
   "language": "python",
   "name": "python3"
  },
  "language_info": {
   "codemirror_mode": {
    "name": "ipython",
    "version": 3
   },
   "file_extension": ".py",
   "mimetype": "text/x-python",
   "name": "python",
   "nbconvert_exporter": "python",
   "pygments_lexer": "ipython3",
   "version": "3.9.7"
  }
 },
 "nbformat": 4,
 "nbformat_minor": 5
}
